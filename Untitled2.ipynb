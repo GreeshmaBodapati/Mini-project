{
  "nbformat": 4,
  "nbformat_minor": 0,
  "metadata": {
    "colab": {
      "provenance": [],
      "authorship_tag": "ABX9TyN8Lv6Y6VjMw4KNv/7qve1U",
      "include_colab_link": true
    },
    "kernelspec": {
      "name": "python3",
      "display_name": "Python 3"
    },
    "language_info": {
      "name": "python"
    }
  },
  "cells": [
    {
      "cell_type": "markdown",
      "metadata": {
        "id": "view-in-github",
        "colab_type": "text"
      },
      "source": [
        "<a href=\"https://colab.research.google.com/github/GreeshmaBodapati/Mini-project/blob/main/Untitled2.ipynb\" target=\"_parent\"><img src=\"https://colab.research.google.com/assets/colab-badge.svg\" alt=\"Open In Colab\"/></a>"
      ]
    },
    {
      "cell_type": "code",
      "execution_count": 1,
      "metadata": {
        "colab": {
          "base_uri": "https://localhost:8080/"
        },
        "id": "8WJnqTt6KrBe",
        "outputId": "882ac1b3-b7a1-463f-95fe-65349bc4da5a"
      },
      "outputs": [
        {
          "output_type": "stream",
          "name": "stdout",
          "text": [
            "Available operations: add, sub, mult, div, modulo, sin, cos, tan\n",
            "Enter the operation you want to perform: Mult\n",
            "Enter the first number: 10\n",
            "Enter the second number: 20\n",
            "Result: 200.0\n"
          ]
        }
      ],
      "source": [
        "\n",
        "import math\n",
        " # For trigonometric functions\n",
        "\n",
        "def calculator():\n",
        "    try:\n",
        "        print(\"Available operations: add, sub, mult, div, modulo, sin, cos, tan\")\n",
        "        operation = input(\"Enter the operation you want to perform: \").lower()\n",
        "\n",
        "        # For arithmetic operations\n",
        "        if operation in ['add', 'sub', 'mult', 'div', 'modulo']:\n",
        "            num1 = float(input(\"Enter the first number: \"))\n",
        "            num2 = float(input(\"Enter the second number: \"))\n",
        "            if operation == \"add\":\n",
        "                print(f\"Result: {num1 + num2}\")\n",
        "            elif operation == \"sub\":\n",
        "                print(f\"Result: {num1 - num2}\")\n",
        "            elif operation == \"mult\":\n",
        "                print(f\"Result: {num1 * num2}\")\n",
        "            elif operation == \"div\":\n",
        "                if num2 != 0:\n",
        "                    print(f\"Result: {num1 / num2}\")\n",
        "                else:\n",
        "                    print(\"Error: Division by zero is not allowed.\")\n",
        "            elif operation == \"modulo\":\n",
        "                print(f\"Result: {num1 % num2}\")\n",
        "\n",
        "        # For trigonometric operations\n",
        "        elif operation in ['sin', 'cos', 'tan']:\n",
        "            angle = float(input(\"Enter the angle in degrees: \"))\n",
        "            radians = math.radians(angle)  # Convert degrees to radians\n",
        "            if operation == \"sin\":\n",
        "                print(f\"Result: {math.sin(radians)}\")\n",
        "            elif operation == \"cos\":\n",
        "                print(f\"Result: {math.cos(radians)}\")\n",
        "            elif operation == \"tan\":\n",
        "                print(f\"Result: {math.tan(radians)}\")\n",
        "\n",
        "        else:\n",
        "            print(\"Error: Invalid operation.\")\n",
        "\n",
        "    except ValueError:\n",
        "        print(\"Error: Invalid input. Please enter numeric values where required.\")\n",
        "\n",
        "# Run the calculator\n",
        "calculator()"
      ]
    }
  ]
}